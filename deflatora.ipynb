{
 "cells": [
  {
   "cell_type": "code",
   "execution_count": 141,
   "metadata": {},
   "outputs": [],
   "source": [
    "from collections import namedtuple\n",
    "import locale\n",
    "import os\n",
    "\n",
    "import pandas as pd\n",
    "\n",
    "\n",
    "if os.name == 'nt':\n",
    "    locale.setlocale(locale.LC_NUMERIC, 'Portuguese_Brazil.1252')\n",
    "else:\n",
    "    locale.setlocale(locale.LC_NUMERIC, ('pt_BR', 'UTF-8'))"
   ]
  },
  {
   "cell_type": "code",
   "execution_count": null,
   "metadata": {},
   "outputs": [],
   "source": [
    "# fonte_igp_di = 'http://www.ipeadata.gov.br/ExibeSerie.aspx?serid=1411282625' # ao ano\n",
    "# http://www.yahii.com.br/igpdi.html\n",
    "# https://www.debit.com.br/tabelas/tabela-completa.php?indice=igp\n",
    "# http://www14.fgv.br/fgvdados20/default.aspx\n",
    "# https://calculador.com.br/calculo/correcao-valor-por-indice"
   ]
  },
  {
   "cell_type": "code",
   "execution_count": null,
   "metadata": {},
   "outputs": [],
   "source": [
    "\n"
   ]
  },
  {
   "cell_type": "code",
   "execution_count": null,
   "metadata": {},
   "outputs": [],
   "source": [
    "# Fonte FGVDados: http://www14.fgv.br/fgvdados20/default.aspx"
   ]
  },
  {
   "cell_type": "code",
   "execution_count": 3,
   "metadata": {},
   "outputs": [],
   "source": [
    "df_fgv = pd.read_excel('../dados-brutos/xgvxConsulta-igp-di.xls',\n",
    "                   skiprows=13,\n",
    "                   usecols=[0, 1],\n",
    "                   names=['ano_mes', 'igp_di'],\n",
    "                   parse_dates=[0])\n",
    "df_fgv.ano_mes = df_fgv.ano_mes.dt.to_period('M')\n",
    "df_fgv.igp_di = df_fgv.igp_di.rolling(2).apply(lambda s: s.iloc[1] / s.iloc[0]).fillna(0)"
   ]
  },
  {
   "cell_type": "code",
   "execution_count": 110,
   "metadata": {},
   "outputs": [],
   "source": []
  },
  {
   "cell_type": "code",
   "execution_count": 7,
   "metadata": {},
   "outputs": [],
   "source": [
    "# Fonte IPEADATA\n",
    "fonte_igp_di = 'http://www.ipeadata.gov.br/ExibeSerie.aspx?serid=39615' # ao mês"
   ]
  },
  {
   "cell_type": "code",
   "execution_count": 8,
   "metadata": {},
   "outputs": [],
   "source": [
    "df_ipea = pd.read_html(fonte_igp_di,\n",
    "                       decimal=',',\n",
    "                       thousands='.',\n",
    "                       header=0,\n",
    "                       parse_dates=[0],\n",
    "                       encoding='utf-8')[2]\n",
    "df_ipea.columns = ['ano_mes', 'igp_di']\n",
    "df_ipea.ano_mes = df_ipea.ano_mes.dt.to_period('M')\n",
    "df_ipea.igp_di = df_ipea.igp_di / 100 + 1"
   ]
  },
  {
   "cell_type": "code",
   "execution_count": 9,
   "metadata": {},
   "outputs": [
    {
     "data": {
      "text/plain": [
       "Series([], Freq: M, Name: igp_di, dtype: float64)"
      ]
     },
     "execution_count": 9,
     "metadata": {},
     "output_type": "execute_result"
    }
   ],
   "source": [
    "# comparar as duas fontes, checando erros\n",
    "(df_fgv.set_index('ano_mes').igp_di.round(4)[1:] - df_ipea.set_index('ano_mes').igp_di).pipe(lambda s: s[s > 1e-14])"
   ]
  },
  {
   "cell_type": "code",
   "execution_count": 78,
   "metadata": {},
   "outputs": [
    {
     "data": {
      "text/plain": [
       "Series([], Freq: M, Name: igp_di, dtype: float64)"
      ]
     },
     "execution_count": 78,
     "metadata": {},
     "output_type": "execute_result"
    }
   ],
   "source": []
  },
  {
   "cell_type": "code",
   "execution_count": 10,
   "metadata": {},
   "outputs": [],
   "source": [
    "df_fgv.to_excel('../dados/igp-di.xlsx', index=False)"
   ]
  },
  {
   "cell_type": "code",
   "execution_count": null,
   "metadata": {},
   "outputs": [],
   "source": []
  },
  {
   "cell_type": "code",
   "execution_count": null,
   "metadata": {},
   "outputs": [],
   "source": []
  },
  {
   "cell_type": "code",
   "execution_count": 65,
   "metadata": {},
   "outputs": [],
   "source": [
    "df_igp_di = pd.read_excel('../dados/igp-di.xlsx', parse_dates=[0])\n",
    "df_igp_di.ano_mes = df_igp_di.ano_mes.dt.to_period('M')"
   ]
  },
  {
   "cell_type": "code",
   "execution_count": null,
   "metadata": {},
   "outputs": [],
   "source": [
    "# Fonte: https://www.bcb.gov.br/content/acessoinformacao/museudocs/pub/SintesePadroesMonetariosBrasileiros.pdf\n",
    "# 1942 \tOut \tCruzeiro \tCr$ \tRs 1$000 (um mil réis)\n",
    "# 1967 \tFev \tCruzeiro Novo \tNCr$ \tCr$ 1.000,00 (um mil cruzeiros)\n",
    "# 1970 \tMai \tCruzeiro \tCr$ \tNCr$ 1,0 (um cruzeiro novo)\n",
    "# 1986 \tFev \tCruzado \tCz$ \tCr$ 1.000,00 (um mil cruzeiros)\n",
    "# 1989 \tJan \tCruzado Novo \tNCz$ \tCz$ 1.000,00 (um mil cruzados)\n",
    "# 1990 \tMar \tCruzeiro \tCr$ \tNCz$ 1,00 (um cruzado novo)\n",
    "# 1993 \tAgo \tCruzeiro Real \tCR$ \tCr$ 1.000,00 (um mil cruzeiros)\n",
    "# 1994 \tJul \tReal \tR$ \tCR$ 2.750,00 (dois mil setecentos e cinquenta cruzeiros reais)"
   ]
  },
  {
   "cell_type": "code",
   "execution_count": 110,
   "metadata": {},
   "outputs": [],
   "source": [
    "pad_mon = namedtuple('padrão_monetário', ['data', 'divisor', 'nome', 'simbolo'])\n",
    "reis          = pad_mon(data=pd.Period('1600-01'), divisor=1, nome='Réis', simbolo='Rs')\n",
    "cruzeiro      = pad_mon(data=pd.Period('1942-10'), divisor=1000, nome='Cruzeiro', simbolo='Cr$')\n",
    "cruzeiro_novo = pad_mon(data=pd.Period('1967-02'), divisor=1000, nome='Cruzeiro Novo', simbolo='NCr$')\n",
    "cruzeiro2     = pad_mon(data=pd.Period('1970-05'), divisor=1, nome='Cruzeiro', simbolo='Cr$')\n",
    "cruzado       = pad_mon(data=pd.Period('1986-02'), divisor=1000, nome='Cruzado', simbolo='Cr$')\n",
    "cruzado_novo  = pad_mon(data=pd.Period('1989-01'), divisor=1000, nome='Cruzado Novo', simbolo='NCr$')\n",
    "cruzeiro3     = pad_mon(data=pd.Period('1990-03'), divisor=1, nome='Cruzeiro', simbolo='Cr$')\n",
    "cruzeiro_real = pad_mon(data=pd.Period('1993-08'), divisor=1000, nome='Cruzeiro Real', simbolo= 'CR$')\n",
    "real          = pad_mon(data=pd.Period('1994-07'), divisor=2750, nome='Real', simbolo='R$')\n",
    "moedas = (cruzeiro, cruzeiro_novo, cruzeiro2, cruzado, cruzado_novo, cruzeiro3, cruzeiro_real, real)"
   ]
  },
  {
   "cell_type": "code",
   "execution_count": 139,
   "metadata": {},
   "outputs": [],
   "source": [
    "def inflacionar(data_inicial,\n",
    "                data_final,\n",
    "                valor,\n",
    "                incluir_data_inicial=False,\n",
    "                incluir_data_final=True):\n",
    "    '''Formato da data: \"AAAA-MM\"\n",
    "    '''\n",
    "    data_inicial = pd.Period(data_inicial)\n",
    "    data_final = pd.Period(data_final)\n",
    "\n",
    "    if not incluir_data_final:\n",
    "        data_final -= - 1\n",
    "    \n",
    "    df_filtrada = df_igp_di[df_igp_di.ano_mes.between(data_inicial, data_final)]\n",
    "    if not incluir_data_inicial:\n",
    "        indice_correcao = df_filtrada.iloc[1:].igp_di.cumprod().iloc[-1]\n",
    "    else: \n",
    "        indice_correcao = df_filtrada.igp_di.cumprod().iloc[-1]\n",
    "        \n",
    "    valor_corrigido = valor * indice_correcao\n",
    "    indice_correcao_liquida = indice_correcao\n",
    "    \n",
    "    for moeda in moedas:\n",
    "        if (df_filtrada.ano_mes == moeda.data).any():\n",
    "            valor_corrigido /= moeda.divisor       \n",
    "            indice_correcao_liquida /= moeda.divisor\n",
    "            \n",
    "    for moeda in moedas:\n",
    "        if data_inicial > moeda.data:\n",
    "            nome_moeda_inicial = moeda.nome\n",
    "            simbolo_moeda_inicial = moeda.simbolo\n",
    "        if data_final > moeda.data:\n",
    "            nome_moeda_final = moeda.nome\n",
    "            simbolo_moeda_final = moeda.simbolo\n",
    "            \n",
    "    print(f'Índice de variação bruta do perído: {locale.format_string(\"%.2f\", indice_correcao, grouping=True)} \\n'\n",
    "          f'Índice de variação líquida do período: {locale.format_string(\"%.2f\", indice_correcao_liquida, grouping=True)}\\n'\n",
    "          f'Valor a atualizar: {simbolo_moeda_inicial} {locale.format_string(\"%.2f\", valor, grouping=True)} ({nome_moeda_inicial})\\n'\n",
    "          f'Valor atualizado:  {simbolo_moeda_final} {locale.format_string(\"%.2f\", valor_corrigido, grouping=True)} ({nome_moeda_final})')\n",
    "    return valor_corrigido, indice_correcao"
   ]
  },
  {
   "cell_type": "code",
   "execution_count": 140,
   "metadata": {},
   "outputs": [
    {
     "name": "stdout",
     "output_type": "stream",
     "text": [
      "Índice de variação bruta do perído: 4.133.482.062.239,18 \n",
      "Índice de variação líquida do período: 4,13\n",
      "Valor a atualizar: Cr$ 1.000,00 (Cruzeiro)\n",
      "Valor atualizado:  CR$ 4.133,48 (Cruzeiro Real)\n"
     ]
    },
    {
     "data": {
      "text/plain": [
       "4133.48"
      ]
     },
     "execution_count": 140,
     "metadata": {},
     "output_type": "execute_result"
    }
   ],
   "source": [
    "inflacionar('1967-02', '1994-06', 1000)[0].round(2)"
   ]
  }
 ],
 "metadata": {
  "kernelspec": {
   "display_name": "Python 3",
   "language": "python",
   "name": "python3"
  },
  "language_info": {
   "codemirror_mode": {
    "name": "ipython",
    "version": 3
   },
   "file_extension": ".py",
   "mimetype": "text/x-python",
   "name": "python",
   "nbconvert_exporter": "python",
   "pygments_lexer": "ipython3",
   "version": "3.8.5"
  }
 },
 "nbformat": 4,
 "nbformat_minor": 4
}
